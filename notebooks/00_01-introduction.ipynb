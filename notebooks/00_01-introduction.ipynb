{
 "cells": [
  {
   "cell_type": "code",
   "execution_count": null,
   "id": "0d977f50-b6b2-47d7-80b6-dab5d0f4245f",
   "metadata": {},
   "outputs": [],
   "source": []
  },
  {
   "cell_type": "markdown",
   "id": "38d26599-5e52-4d59-ae88-a212b317375f",
   "metadata": {},
   "source": [
    "# Introduction to PyArrow\n",
    "\n",
    "PyArrow is a powerful open-source library that brings the Apache Arrow in-memory columnar format to the Python ecosystem. Developed as part of the Apache Arrow project, PyArrow provides a flexible and efficient framework for handling large-scale data processing tasks, enabling seamless interoperability between different data processing systems.\n",
    "\n",
    "## What is PyArrow?\n",
    "\n",
    "At its core, PyArrow is designed to provide high-performance tools for manipulating and transferring large datasets. It allows you to work with data in a way that minimizes memory usage and optimizes performance, making it an ideal choice for big data applications, real-time analytics, and complex data workflows.\n",
    "\n",
    "## Key Features of PyArrow\n",
    "\n",
    "- **Columnar Data Format**: PyArrow utilizes the Arrow columnar format, which is optimized for analytical workloads. This format enables efficient querying, processing, and serialization of large datasets, particularly in memory-constrained environments.\n",
    "  \n",
    "- **Interoperability**: One of PyArrow's standout features is its ability to seamlessly interface with other data processing libraries and frameworks, such as Pandas, Apache Spark, and Dask. This allows for smooth data transfer between different parts of your data pipeline without costly conversions.\n",
    "\n",
    "- **Zero-Copy Data Sharing**: PyArrow allows for zero-copy data sharing between different systems and programming languages. This means that data can be transferred between applications without the need for serialization and deserialization, significantly improving performance.\n",
    "\n",
    "- **Flexible File Formats**: PyArrow supports a variety of file formats, including Parquet, Feather, and ORC, making it a versatile tool for reading and writing large datasets. This makes it easy to store and retrieve data efficiently.\n",
    "\n",
    "- **Memory-Mapped File Support**: PyArrow offers support for memory-mapped files, enabling you to work with large datasets that don't fit entirely in memory. This feature is particularly useful for handling big data on systems with limited RAM.\n",
    "\n",
    "- **High-Performance Computing**: PyArrow is designed with performance in mind, offering vectorized operations and efficient memory usage. It is optimized for modern CPU architectures, making it suitable for high-performance computing tasks.\n",
    "\n",
    "## Why Use PyArrow?\n",
    "\n",
    "PyArrow is an essential tool for data engineers, data scientists, and software developers who work with large datasets and need to optimize data processing workflows. Whether you're building a data pipeline, performing complex data transformations, or integrating with big data frameworks, PyArrow provides the tools you need to handle data efficiently.\n",
    "\n",
    "With PyArrow, you can:\n",
    "- Seamlessly integrate with other data processing libraries.\n",
    "- Optimize memory usage and performance for large datasets.\n",
    "- Leverage the Arrow columnar format for efficient data storage and retrieval.\n",
    "- Enable zero-copy data sharing between different applications and systems.\n",
    "\n",
    "In this tutorial, we will explore the key functionalities of PyArrow, including how to create and manipulate Arrow arrays, work with various file formats, and integrate PyArrow with other Python libraries. By the end of this tutorial, you'll have a solid understanding of how PyArrow can enhance your data processing workflows and improve the performance of your applications."
   ]
  },
  {
   "cell_type": "code",
   "execution_count": 1,
   "id": "fa48d6cc-c897-4cbb-92fb-bc101e38cca0",
   "metadata": {},
   "outputs": [],
   "source": [
    "import pyarrow as pa"
   ]
  },
  {
   "cell_type": "code",
   "execution_count": 2,
   "id": "6bdf2419-0351-41b7-a104-40eadf097294",
   "metadata": {},
   "outputs": [
    {
     "name": "stdout",
     "output_type": "stream",
     "text": [
      "17.0.0\n"
     ]
    }
   ],
   "source": [
    "# print pyarrow version\n",
    "print(pa.__version__)"
   ]
  },
  {
   "cell_type": "code",
   "execution_count": 3,
   "id": "befc60a1-b11e-41bb-8219-439c9f872416",
   "metadata": {},
   "outputs": [
    {
     "name": "stdout",
     "output_type": "stream",
     "text": [
      "Array from list: [\n",
      "  1,\n",
      "  2,\n",
      "  3,\n",
      "  4,\n",
      "  5\n",
      "]\n",
      "The type is: <class 'pyarrow.lib.Int64Array'>\n"
     ]
    }
   ],
   "source": [
    "# Creating an array from a list\n",
    "array_from_list = pa.array([1, 2, 3, 4, 5])\n",
    "print(\"Array from list:\", array_from_list)\n",
    "print(\"The type is:\", type(array_from_list))"
   ]
  },
  {
   "cell_type": "code",
   "execution_count": 4,
   "id": "04d05f26-3cd0-4146-9ea0-0c10db796071",
   "metadata": {},
   "outputs": [
    {
     "name": "stdout",
     "output_type": "stream",
     "text": [
      "Array using range: [\n",
      "  0,\n",
      "  1,\n",
      "  2,\n",
      "  3,\n",
      "  4,\n",
      "  5,\n",
      "  6,\n",
      "  7,\n",
      "  8,\n",
      "  9\n",
      "]\n"
     ]
    }
   ],
   "source": [
    "# Creating an array using a range (arange equivalent)\n",
    "array_range = pa.array(range(10))\n",
    "print(\"Array using range:\", array_range)"
   ]
  },
  {
   "cell_type": "code",
   "execution_count": 5,
   "id": "fa4d3479-52bb-4685-8fe7-6a5486291fcf",
   "metadata": {},
   "outputs": [
    {
     "name": "stdout",
     "output_type": "stream",
     "text": [
      "Array of zeros: [\n",
      "  0,\n",
      "  0,\n",
      "  0,\n",
      "  0,\n",
      "  0\n",
      "]\n"
     ]
    }
   ],
   "source": [
    "# Creating an array of zeros (PyArrow does not have a direct zeros function, so we use a list of zeros)\n",
    "array_zeros = pa.array([0] * 5)\n",
    "print(\"Array of zeros:\", array_zeros)"
   ]
  },
  {
   "cell_type": "code",
   "execution_count": 6,
   "id": "57b9128f-8ce5-4f0c-ab3b-45b283c0a07b",
   "metadata": {},
   "outputs": [
    {
     "name": "stdout",
     "output_type": "stream",
     "text": [
      "Array of ones: [\n",
      "  1,\n",
      "  1,\n",
      "  1,\n",
      "  1,\n",
      "  1\n",
      "]\n"
     ]
    }
   ],
   "source": [
    "# Creating an array of ones (similar to zeros, use a list of ones)\n",
    "array_ones = pa.array([1] * 5)\n",
    "print(\"Array of ones:\", array_ones)"
   ]
  },
  {
   "cell_type": "code",
   "execution_count": 7,
   "id": "f2699f57-9719-4ebc-bed2-aafe24846d19",
   "metadata": {},
   "outputs": [
    {
     "name": "stdout",
     "output_type": "stream",
     "text": [
      "Array using linspace(): [\n",
      "  0,\n",
      "  0.25,\n",
      "  0.5,\n",
      "  0.75,\n",
      "  1\n",
      "]\n"
     ]
    }
   ],
   "source": [
    "# Creating an array using linspace equivalent (linspace is not directly available in PyArrow, we use NumPy here)\n",
    "import numpy as np\n",
    "array_linspace = pa.array(np.linspace(0, 1, 5))\n",
    "print(\"Array using linspace():\", array_linspace)"
   ]
  },
  {
   "cell_type": "code",
   "execution_count": null,
   "id": "98729e9e-b6f3-4f09-874c-475e7a6743cb",
   "metadata": {},
   "outputs": [],
   "source": [
    "# Creating an array of random integers (PyArrow does not have a direct random function, so we use NumPy)\n",
    "array_random = pa.array(np.random.randint(1, 10, 5))\n",
    "print(\"Array of random integers:\", array_random)"
   ]
  }
 ],
 "metadata": {
  "kernelspec": {
   "display_name": "Numpy-Env Py3.12",
   "language": "python",
   "name": "np-env"
  },
  "language_info": {
   "codemirror_mode": {
    "name": "ipython",
    "version": 3
   },
   "file_extension": ".py",
   "mimetype": "text/x-python",
   "name": "python",
   "nbconvert_exporter": "python",
   "pygments_lexer": "ipython3",
   "version": "3.12.5"
  }
 },
 "nbformat": 4,
 "nbformat_minor": 5
}
